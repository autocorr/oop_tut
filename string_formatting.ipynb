{
 "metadata": {
  "name": ""
 },
 "nbformat": 3,
 "nbformat_minor": 0,
 "worksheets": [
  {
   "cells": [
    {
     "cell_type": "markdown",
     "metadata": {},
     "source": [
      "String Formatting in Python\n",
      "===========================\n",
      "Python provides an impressive number of ways to format strings. Many useful string functions are methods on string literals (strings are also objects)."
     ]
    },
    {
     "cell_type": "code",
     "collapsed": false,
     "input": [
      "s = \"  This is a test string.    Foobar.    \""
     ],
     "language": "python",
     "metadata": {},
     "outputs": [],
     "prompt_number": 7
    },
    {
     "cell_type": "code",
     "collapsed": false,
     "input": [
      "# can't show tab-complete\n",
      "# ignore the magic methods with `__foo__` signatures,\n",
      "# those are for internal operations and interactions\n",
      "# with other objects.\n",
      "dir(s)"
     ],
     "language": "python",
     "metadata": {},
     "outputs": [
      {
       "metadata": {},
       "output_type": "pyout",
       "prompt_number": 6,
       "text": [
        "['__add__',\n",
        " '__class__',\n",
        " '__contains__',\n",
        " '__delattr__',\n",
        " '__doc__',\n",
        " '__eq__',\n",
        " '__format__',\n",
        " '__ge__',\n",
        " '__getattribute__',\n",
        " '__getitem__',\n",
        " '__getnewargs__',\n",
        " '__getslice__',\n",
        " '__gt__',\n",
        " '__hash__',\n",
        " '__init__',\n",
        " '__le__',\n",
        " '__len__',\n",
        " '__lt__',\n",
        " '__mod__',\n",
        " '__mul__',\n",
        " '__ne__',\n",
        " '__new__',\n",
        " '__reduce__',\n",
        " '__reduce_ex__',\n",
        " '__repr__',\n",
        " '__rmod__',\n",
        " '__rmul__',\n",
        " '__setattr__',\n",
        " '__sizeof__',\n",
        " '__str__',\n",
        " '__subclasshook__',\n",
        " '_formatter_field_name_split',\n",
        " '_formatter_parser',\n",
        " 'capitalize',\n",
        " 'center',\n",
        " 'count',\n",
        " 'decode',\n",
        " 'encode',\n",
        " 'endswith',\n",
        " 'expandtabs',\n",
        " 'find',\n",
        " 'format',\n",
        " 'index',\n",
        " 'isalnum',\n",
        " 'isalpha',\n",
        " 'isdigit',\n",
        " 'islower',\n",
        " 'isspace',\n",
        " 'istitle',\n",
        " 'isupper',\n",
        " 'join',\n",
        " 'ljust',\n",
        " 'lower',\n",
        " 'lstrip',\n",
        " 'partition',\n",
        " 'replace',\n",
        " 'rfind',\n",
        " 'rindex',\n",
        " 'rjust',\n",
        " 'rpartition',\n",
        " 'rsplit',\n",
        " 'rstrip',\n",
        " 'split',\n",
        " 'splitlines',\n",
        " 'startswith',\n",
        " 'strip',\n",
        " 'swapcase',\n",
        " 'title',\n",
        " 'translate',\n",
        " 'upper',\n",
        " 'zfill']"
       ]
      }
     ],
     "prompt_number": 6
    },
    {
     "cell_type": "markdown",
     "metadata": {},
     "source": [
      "Most common operations are in the methods bound to strings. Setting aside some time to study the methods and their documentation will save many future stackoverflow visits."
     ]
    },
    {
     "cell_type": "code",
     "collapsed": false,
     "input": [
      "print s\n",
      "print s.lstrip()  # strip whitespace from left side"
     ],
     "language": "python",
     "metadata": {},
     "outputs": [
      {
       "output_type": "stream",
       "stream": "stdout",
       "text": [
        "  This is a test string.    Foobar.    \n",
        "This is a test string.    Foobar.    \n"
       ]
      }
     ],
     "prompt_number": 10
    },
    {
     "cell_type": "markdown",
     "metadata": {},
     "source": [
      "Among these is the `.format` method for *interpolating* variables into strings..."
     ]
    },
    {
     "cell_type": "markdown",
     "metadata": {},
     "source": [
      "Format Specification Mini-Language\n",
      "==================================\n",
      "Python used to use the C style string interpolation syntax, but has since been deprecated in Python 3, and the now current format specification is more robust (and also easier to read in my opinion).\n",
      "\n",
      "You can find the detailed documentation here:\n",
      "https://docs.python.org/2/library/string.html#format-specification-mini-language\n",
      "\n",
      "The spec is justly called a mini-language, and is very flexible, some time upfront studying the documentation would be well spent! This tutorial covers some of the highlights."
     ]
    },
    {
     "cell_type": "code",
     "collapsed": false,
     "input": [
      "a = 1.23\n",
      "b = 456\n",
      "c = 8 + 9j  # python uses `j` for complex numbers\n",
      "\n",
      "# a *format string* is a string with format\n",
      "# declarations in it. Curly braces are used\n",
      "# as the syntax to show where to interpolate.\n",
      "\n",
      "# Zero-indexed numbers can be used for positional\n",
      "# arguments.\n",
      "print '{0} {2} {1}'.format(a, b, c)"
     ],
     "language": "python",
     "metadata": {},
     "outputs": [
      {
       "output_type": "stream",
       "stream": "stdout",
       "text": [
        "1.23 (8+9j) 456\n"
       ]
      }
     ],
     "prompt_number": 78
    },
    {
     "cell_type": "code",
     "collapsed": false,
     "input": [
      "# Names can be used for keyword arguments\n",
      "print '{foo} {foo} {bar}'.format(foo=a, bar=b)"
     ],
     "language": "python",
     "metadata": {},
     "outputs": [
      {
       "output_type": "stream",
       "stream": "stdout",
       "text": [
        "1.23 1.23 456\n"
       ]
      }
     ],
     "prompt_number": 18
    },
    {
     "cell_type": "code",
     "collapsed": false,
     "input": [
      "# Methods and attributes can be carried out as well.\n",
      "print '{n}'.format(n=c)\n",
      "print '{n.imag},{n.real}'.format(n=c)"
     ],
     "language": "python",
     "metadata": {},
     "outputs": [
      {
       "output_type": "stream",
       "stream": "stdout",
       "text": [
        "(8+9j)\n",
        "9.0,8.0\n"
       ]
      }
     ],
     "prompt_number": 26
    },
    {
     "cell_type": "code",
     "collapsed": false,
     "input": [
      "# Can also do list access\n",
      "l = [1,2,3]\n",
      "print '{l[1]} -- {b}'.format(l=l, b=b)"
     ],
     "language": "python",
     "metadata": {},
     "outputs": [
      {
       "output_type": "stream",
       "stream": "stdout",
       "text": [
        "2 -- 456\n"
       ]
      }
     ],
     "prompt_number": 29
    },
    {
     "cell_type": "markdown",
     "metadata": {},
     "source": [
      "If you want to format numeric output for fixed width tables, then format specification has the following modifiers:"
     ]
    },
    {
     "cell_type": "raw",
     "metadata": {},
     "source": [
      "format_spec ::=  [[fill]align][sign][#][0][width][,][.precision][type]\n",
      "fill        ::=  <any character>\n",
      "align       ::=  \"<\" | \">\" | \"=\" | \"^\"\n",
      "sign        ::=  \"+\" | \"-\" | \" \"\n",
      "width       ::=  integer\n",
      "precision   ::=  integer\n",
      "type        ::=  \"b\" | \"c\" | \"d\" | \"e\" | \"E\" | \"f\" | \"F\" | \"g\" | \"G\" | \"n\" | \"o\" | \"s\" | \"x\" | \"X\" | \"%\""
     ]
    },
    {
     "cell_type": "code",
     "collapsed": false,
     "input": [
      "print '|{n:>15.4f}|'.format(n=100)\n",
      "#    | fill character is left empty, so defaults to space\n",
      "# >  | (right arrow) right aligns the text\n",
      "# 15 | assigns the width of the output\n",
      "# .4 | four decimal place precision\n",
      "# f  | floating point data type (convert if necessary)\n",
      "\n",
      "print '|{n:>15.4e}|'.format(n=100)\n",
      "# e  | scientific notation format\n",
      "# Note: still 4 decimals in notation"
     ],
     "language": "python",
     "metadata": {},
     "outputs": [
      {
       "output_type": "stream",
       "stream": "stdout",
       "text": [
        "|       100.0000|\n",
        "|     1.0000e+02|\n"
       ]
      }
     ],
     "prompt_number": 36
    },
    {
     "cell_type": "code",
     "collapsed": false,
     "input": [
      "# As an example, a simple scheme to print numbers\n",
      "# in fixed width for display or to a file.\n",
      "import random\n",
      "import string\n",
      "\n",
      "N = 5\n",
      "# '_' can be used if you don't actually need to use a variable\n",
      "header = [3 * random.choice(string.ascii_letters) for _ in range(N)]\n",
      "out_nums = np.random.random(N**2).reshape(N, N) - 0.5\n",
      "print out_nums\n",
      "\n",
      "# Note this only works in Python 2; Python 3 requires\n",
      "# positional arguments to have a number, 0, 1, 2, etc.\n",
      "# In Python 2, if no number before the colon is given,\n",
      "# it just takes the next positional argument.\n",
      "top_string = N * (10 * '-' + '|')\n",
      "header_string = N * '{:>10}|'  # no type goes to string\n",
      "format_string = N * '{:>10.5f}|'  # f -> float\n",
      "print '\\n', format_string\n",
      "\n",
      "# The asterisk (\"splat\" operator) unpacks a collection\n",
      "# row = [1, 2, 3, 4, 5]\n",
      "# ...format(*row)\n",
      "# <=>\n",
      "# ...format(1, 2, 3, 4, 5)\n",
      "\n",
      "## Write to a file\n",
      "#with open('~/string_format_test.txt', 'w') as f:\n",
      "#    for row in out_nums:\n",
      "#        f.write(format_string.format(*row))\n",
      "\n",
      "print '\\n'\n",
      "print top_string\n",
      "print header_string.format(*header)\n",
      "for row in out_nums:\n",
      "    print format_string.format(*row)"
     ],
     "language": "python",
     "metadata": {},
     "outputs": [
      {
       "output_type": "stream",
       "stream": "stdout",
       "text": [
        "[[-0.32490841  0.08737849 -0.46730828 -0.27499923  0.42214967]\n",
        " [-0.33231514  0.43705277  0.13977984 -0.07790953 -0.38696517]\n",
        " [ 0.39698856 -0.17920019 -0.45076344 -0.12103272 -0.01247317]\n",
        " [ 0.36720063  0.19170091  0.43389211 -0.43754849  0.24338629]\n",
        " [ 0.10679848  0.13729329  0.19860395 -0.40533218 -0.03306282]]\n",
        "\n",
        "{:>10.5f}|{:>10.5f}|{:>10.5f}|{:>10.5f}|{:>10.5f}|\n",
        "\n",
        "\n",
        "----------|----------|----------|----------|----------|\n",
        "       MMM|       DDD|       TTT|       ooo|       eee|\n",
        "  -0.32491|   0.08738|  -0.46731|  -0.27500|   0.42215|\n",
        "  -0.33232|   0.43705|   0.13978|  -0.07791|  -0.38697|\n",
        "   0.39699|  -0.17920|  -0.45076|  -0.12103|  -0.01247|\n",
        "   0.36720|   0.19170|   0.43389|  -0.43755|   0.24339|\n",
        "   0.10680|   0.13729|   0.19860|  -0.40533|  -0.03306|\n"
       ]
      }
     ],
     "prompt_number": 77
    },
    {
     "cell_type": "code",
     "collapsed": false,
     "input": [],
     "language": "python",
     "metadata": {},
     "outputs": []
    }
   ],
   "metadata": {}
  }
 ]
}