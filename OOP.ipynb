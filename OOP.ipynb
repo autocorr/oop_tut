{
 "metadata": {
  "name": ""
 },
 "nbformat": 3,
 "nbformat_minor": 0,
 "worksheets": [
  {
   "cells": [
    {
     "cell_type": "code",
     "collapsed": false,
     "input": [
      "%matplotlib inline\n",
      "import numpy as np\n",
      "import pandas as pd"
     ],
     "language": "python",
     "metadata": {},
     "outputs": [],
     "prompt_number": 2
    },
    {
     "cell_type": "markdown",
     "metadata": {},
     "source": [
      "OOP and You\n",
      "===========\n",
      "*Object Oriented Programming* or \"OOP\" is a computer programming paradigm or style. Python is Object Oriented, similar to other popular languages such as Java or C++, but Python also supports other paradigms such as *functional* (Lisp, Haskell) and *imperative/procedural* (C, Fortran). There are an almost innumerable number of paradigms (cf. https://en.wikipedia.org/wiki/Programming_paradigm), but OOP allows for cheap *abstraction* and *modularization*. These permit simple logical hierarchies and easy code-reuse[1]. If you find yourself copying and pasting code between modules, getting confused about the control flow, or frequently passing around a \"God-parameter-list\" between functions, then your code will likely benefit from a healthy dose of OOP. It is also fun to say.\n",
      "\n",
      "In short, by modeling code as a set of interacting objects, a program can benefit with:\n",
      "\n",
      "* ease of understanding and reasoning\n",
      "* ease of maintanenance\n",
      "* ease of extension and evolution\n",
      "\n",
      "[1] DRY: Don't Repeat Yourself"
     ]
    },
    {
     "cell_type": "markdown",
     "metadata": {},
     "source": [
      "Pythonic Code\n",
      "-------------\n",
      "Code that is \"idiomatic\" in the Python language is said to be *pythonic*. Idiomatic code is the preferred and likely the simplest way of coding a problem given the solutions of Python language. At it's core Python is an OO language and thus pythonic code is often object oriented. So if you understand OO concepts, you'll be able to understand and write idiomatic, pythonic Pthon code. In Python, \"there should be one--and preferrably only one--obvious way to do it,\" in contrast to the Perl approach where \"there is more than one way to do it.\" The \"Zen of Python\" outlines the style for pythonic code:"
     ]
    },
    {
     "cell_type": "code",
     "collapsed": false,
     "input": [
      "import this"
     ],
     "language": "python",
     "metadata": {},
     "outputs": [
      {
       "output_type": "stream",
       "stream": "stdout",
       "text": [
        "The Zen of Python, by Tim Peters\n",
        "\n",
        "Beautiful is better than ugly.\n",
        "Explicit is better than implicit.\n",
        "Simple is better than complex.\n",
        "Complex is better than complicated.\n",
        "Flat is better than nested.\n",
        "Sparse is better than dense.\n",
        "Readability counts.\n",
        "Special cases aren't special enough to break the rules.\n",
        "Although practicality beats purity.\n",
        "Errors should never pass silently.\n",
        "Unless explicitly silenced.\n",
        "In the face of ambiguity, refuse the temptation to guess.\n",
        "There should be one-- and preferably only one --obvious way to do it.\n",
        "Although that way may not be obvious at first unless you're Dutch.\n",
        "Now is better than never.\n",
        "Although never is often better than *right* now.\n",
        "If the implementation is hard to explain, it's a bad idea.\n",
        "If the implementation is easy to explain, it may be a good idea.\n",
        "Namespaces are one honking great idea -- let's do more of those!\n"
       ]
      }
     ],
     "prompt_number": 1
    },
    {
     "cell_type": "markdown",
     "metadata": {},
     "source": [
      "Useful pointers of idiomatic python: http://python.net/~goodger/projects/pycon/2007/idiomatic/handout.html"
     ]
    },
    {
     "cell_type": "markdown",
     "metadata": {},
     "source": [
      "Outline\n",
      "=======\n",
      "Jargon with quick and dirty explanations:\n",
      "\n",
      "Elements of OOP\n",
      "---------------\n",
      "\n",
      "* *Class*: an object \"blueprint\"\n",
      "* *Object*: an instance of a class\n",
      "* *Attribute*: a variable bound to a class\n",
      "* *Method*: a function bound to a class\n",
      "* *Property*: an attribute with special \"get\" and \"set\" methods\n",
      "* *Magic Method*: a special method, for say instantiation, addition, or list-type access\n",
      "\n",
      "\n",
      "Relationships between Objects\n",
      "-----------------------------\n",
      "\n",
      "* *Polymorphism* or *Duck-typing*: If it walks like a duck...\n",
      "* *Inheritance*: A car **is a** vehicle\n",
      "* *Multiple-Inheritance* and *Mixins*: A motorhome **is a** vehicle **and a** residance\n",
      "* *Composition*: A car **has an** engine"
     ]
    },
    {
     "cell_type": "markdown",
     "metadata": {},
     "source": [
      "Classes and Objects\n",
      "===================\n",
      "In Python, everything is an object. What is an object? An object is an instance of a class. A class in python is the \"blueprint\" for creating an object and defining it's behaviour."
     ]
    },
    {
     "cell_type": "code",
     "collapsed": false,
     "input": [
      "# Note: by convention python classes are always written in CamelCase\n",
      "class Query(object):\n",
      "    pass\n",
      "\n",
      "def f():\n",
      "    return 0\n",
      "\n",
      "# `q1` and `q2` are instances of the `Query` class.\n",
      "x = f()\n",
      "q1 = Query()  # \"call\" the class, just like a zero argument function\n",
      "q2 = Query()\n"
     ],
     "language": "python",
     "metadata": {},
     "outputs": [],
     "prompt_number": 3
    },
    {
     "cell_type": "code",
     "collapsed": false,
     "input": [
      "print q1  # without instructions how to print, it prints the class name and a pointer to it's memory location\n",
      "print q2\n",
      "print type(q1)  # what class?\n",
      "print isinstance(q1, Query)  # True"
     ],
     "language": "python",
     "metadata": {},
     "outputs": [
      {
       "output_type": "stream",
       "stream": "stdout",
       "text": [
        "<__main__.Query object at 0x3312990>\n",
        "<__main__.Query object at 0x3312a10>\n",
        "<class '__main__.Query'>\n",
        "True\n"
       ]
      }
     ],
     "prompt_number": 4
    },
    {
     "cell_type": "code",
     "collapsed": false,
     "input": [
      "my_num = 1\n",
      "# `is` tests whether variables (objects) share the same location and value in memory\n",
      "# Note: to test equality use the `==` operator.\n",
      "# Note: think of python variables like tags on boxes, rather than the contents of boxes\n",
      "my_num is 1  # True, same memory\n",
      "\n",
      "a = np.array([1,2,3])  # returns an numpy.ndarray object\n",
      "b = np.array([1,2,3])\n",
      "\n",
      "print np.all(a == b)  # True, all values compared element-wise are equal\n",
      "print a is b  # False, two different copies in memory\n",
      "print q1 is q2  # False, different instances of the same class"
     ],
     "language": "python",
     "metadata": {},
     "outputs": [
      {
       "output_type": "stream",
       "stream": "stdout",
       "text": [
        "True\n",
        "False\n",
        "False\n"
       ]
      }
     ],
     "prompt_number": 5
    },
    {
     "cell_type": "code",
     "collapsed": false,
     "input": [
      "# python allows dynamic assignment of variables to object instances (\"attributes\").\n",
      "# it is not required to specify attributes in the class statement, however it\n",
      "# is almost always a good idea to in order to make clean and readable code.\n",
      "q1.url = 'http://foo'\n",
      "print q1.url\n",
      "\n",
      "# Note: the purpose of a `property` is to preserve this way of accessing and assigning values\n",
      "#       but for when things get more complicated"
     ],
     "language": "python",
     "metadata": {},
     "outputs": [
      {
       "output_type": "stream",
       "stream": "stdout",
       "text": [
        "http://foo\n"
       ]
      }
     ],
     "prompt_number": 36
    },
    {
     "cell_type": "markdown",
     "metadata": {},
     "source": [
      "Attributes\n",
      "==========\n",
      "Attributes are variables bound to classes or objects. They can be assigned within the class statement or dynamically (see above). Attributes are only known within the \"scope\" of the class or object, and must be referenced with the \".\" syntax of `object.attribute`  (actually because everything in Python is an object, including numeric/string literals and functions, this should really read `object.object`...)."
     ]
    },
    {
     "cell_type": "code",
     "collapsed": false,
     "input": [
      "class Query(object):\n",
      "    url = 'http://foo'\n",
      "\n",
      "# ^ *Class* attributes are shared across all objects created when `Query` is\n",
      "#   called. When an instance of a class is created, all of the class attributes\n",
      "#   become *instance* attributes -- specific to only that one instance.\n",
      "\n",
      "q1 = Query()\n",
      "q2 = Query()\n",
      "\n",
      "print q1.url, q2.url  # the url attribute is shared across all instances\n",
      "q1.url = 'http://bar'\n",
      "print q1.url, q2.url  # q2.url did not change"
     ],
     "language": "python",
     "metadata": {},
     "outputs": [
      {
       "output_type": "stream",
       "stream": "stdout",
       "text": [
        "http://foo http://foo\n",
        "http://bar http://foo\n"
       ]
      }
     ],
     "prompt_number": 9
    },
    {
     "cell_type": "markdown",
     "metadata": {},
     "source": [
      "Advanced Topic: Decorators\n",
      "--------------------------\n",
      "Decorators are a language feature of Python that gives nice syntax to wrapping functions in other functions. Decorators make for clean and readable ways to add behaviour to a function without modifying the underlying code. This is especially useful when you're using external code where you *can't* modify it. See it in action:"
     ]
    },
    {
     "cell_type": "code",
     "collapsed": false,
     "input": [
      "# This would be the way to wrap functions with other functions without decorators\n",
      "def halve(f):\n",
      "    def wrapper(l):\n",
      "        return f(l) / 2.\n",
      "    return wrapper  # a function that returns a function\n",
      "\n",
      "def my_random(l):\n",
      "    return np.random.choice(l)\n",
      "\n",
      "# Re-define function:\n",
      "my_random = halve(my_random)\n",
      "for _ in range(5):\n",
      "    print my_random([0, 1])"
     ],
     "language": "python",
     "metadata": {},
     "outputs": [
      {
       "output_type": "stream",
       "stream": "stdout",
       "text": [
        "0.0\n",
        "0.5\n",
        "0.5\n",
        "0.0\n",
        "0.0\n"
       ]
      }
     ],
     "prompt_number": 18
    },
    {
     "cell_type": "code",
     "collapsed": false,
     "input": [
      "# With decorators\n",
      "def halve(f):\n",
      "    def wrapper(l):\n",
      "        return f(l) / 2.\n",
      "    return wrapper  # a function that returns a function\n",
      "\n",
      "@halve\n",
      "def my_random(l):\n",
      "    return np.random.choice(l)\n",
      "\n",
      "for _ in range(5):\n",
      "    print my_random([0, 1])"
     ],
     "language": "python",
     "metadata": {},
     "outputs": [
      {
       "output_type": "stream",
       "stream": "stdout",
       "text": [
        "0.0\n",
        "0.0\n",
        "0.5\n",
        "0.0\n",
        "0.5\n"
       ]
      }
     ],
     "prompt_number": 24
    },
    {
     "cell_type": "markdown",
     "metadata": {},
     "source": [
      "Methods\n",
      "=======\n",
      "Methods are functions bound to classes or objects. They can also be dynamically assigned and need not be defined in the class statement (although this is generally preferred to not confuse yourself or other programmers). Methods can \"see\" all of the attributes and state of the current object when it executes (ie, within the object's lexical scope). The ability to reference the *state* of the object are what make methods distinct from simple functions."
     ]
    },
    {
     "cell_type": "code",
     "collapsed": false,
     "input": [
      "import requests\n",
      "\n",
      "class Query(object):\n",
      "    url = 'http://home.strw.leidenuniv.nl/~moldata/datafiles/{0}.dat'\n",
      "    \n",
      "    # The `__init__` method is a \"magic method\" that is used when you want to call\n",
      "    # a class to create an instance. Positional and keyword arguments work just the\n",
      "    # same as they do in normal function definitions. Except! `self`...\n",
      "    #\n",
      "    # `self` refers to the instance of the class. It is not a reserved word\n",
      "    # like `for` or `if`, but is universal style to name this instance `self`. It must\n",
      "    # be the first argument to an instance method.\n",
      "    def __init__(self, mol, verbose=False):\n",
      "        self.mol = mol\n",
      "        self.verbose = verbose\n",
      "        self.clean_data = None\n",
      "\n",
      "    # Another magic method for what to do when called as a string, by `print` say\n",
      "    def __str__(self):\n",
      "        return '\\n'.join(self.clean_data[:20])\n",
      "    \n",
      "    # a normal \"instance\" method, note, this method takes 0 arguments when called,\n",
      "    # because the name of the object instance, `self`, is always reserved as the\n",
      "    # first argument.\n",
      "    def run(self):\n",
      "        if self.verbose:  # truthiness means we don't have to test\n",
      "            print '-- Executing query'\n",
      "        raw_data = requests.get(self.url.format(self.mol)).text\n",
      "        clean_data = self.strip_lines(raw_data)\n",
      "        self.clean_data = clean_data\n",
      "    \n",
      "    # a \"static\" method does not need to reference anything outside it's scope\n",
      "    # so it does not need `self` (the object instance) as it's first argument.\n",
      "    @staticmethod\n",
      "    def strip_lines(data):\n",
      "        return [s.strip() for s in data.split('\\n')] \n",
      "  \n",
      "    # Advanced topic: class methods take as their first argument not the object\n",
      "    # instance `self` but the class definition `cls`. One thing that these are\n",
      "    # useful for are alternate constructors besides `__init__`.\n",
      "    @classmethod\n",
      "    def from_full_name(cls, name, **kwargs):\n",
      "        full_names = {'Carbon Monoxide': 'co',\n",
      "                      'Hydrogen Cyanide': 'hcn'}\n",
      "        q = cls(full_names[name], **kwargs)  # this calls Query(mol)\n",
      "        return q\n",
      "\n",
      "\n",
      "q1 = Query('co')\n",
      "q1.run()\n",
      "print q1\n",
      "\n",
      "print '\\n ------- \\n'\n",
      "q2 = Query.from_full_name('Hydrogen Cyanide')\n",
      "q2.run()\n",
      "print q2"
     ],
     "language": "python",
     "metadata": {},
     "outputs": [
      {
       "output_type": "stream",
       "stream": "stdout",
       "text": [
        "!MOLECULE\n",
        "CO\n",
        "!MOLECULAR WEIGHT\n",
        "28.0\n",
        "!NUMBER OF ENERGY LEVELS\n",
        "41\n",
        "!LEVEL + ENERGIES(cm^-1) + WEIGHT + J\n",
        "1     0.000000000\t    1.0\t    0\n",
        "2     3.845033413\t    3.0\t    1\n",
        "3    11.534919938\t    5.0\t    2\n",
        "4    23.069512649\t    7.0\t    3\n",
        "5    38.448164669\t    9.0     4\n",
        "6    57.670329083\t   11.0     5\n",
        "7    80.735459105\t   13.0\t    6\n",
        "8   107.642407981\t   15.0\t    7\n",
        "9   138.390328288\t   17.0\t    8\n",
        "10   172.978074417\t   19.0\t    9\n",
        "11   211.404098498\t   21.0\t   10\n",
        "12   253.667154063\t   23.0\t   11\n",
        "13   299.765594677\t   25.0\t   12\n",
        "\n",
        " ------- \n",
        "\n",
        "!MOLECULE\n",
        "HCN\n",
        "!MOLECULAR WEIGHT\n",
        "27.0\n",
        "!NUMBER OF ENERGY LEVELS\n",
        "26\n",
        "!LEVEL + ENERGIES(cm^-1) + WEIGHT + J\n",
        "1        0.0000    1.0     0\n",
        "2        2.9564    3.0     1\n",
        "3        8.8692    5.0     2\n",
        "4       17.7382    7.0     3\n",
        "5       29.5633    9.0     4\n",
        "6       44.3440   11.0     5\n",
        "7       62.0802   13.0     6\n",
        "8       82.7713   15.0     7\n",
        "9      106.4169   17.0     8\n",
        "10      133.0164   19.0     9\n",
        "11      162.5692   21.0    10\n",
        "12      195.0746   23.0    11\n",
        "13      230.5318   25.0    12"
       ]
      },
      {
       "output_type": "stream",
       "stream": "stdout",
       "text": [
        "\n"
       ]
      }
     ],
     "prompt_number": 23
    },
    {
     "cell_type": "markdown",
     "metadata": {},
     "source": [
      "Advanced Topic: Properties\n",
      "--------------------------"
     ]
    },
    {
     "cell_type": "code",
     "collapsed": false,
     "input": [
      "# *Properties* behave like methods (next section) but preserve the nice\n",
      "# access pattern of `object.attribute` to get the value and\n",
      "# `object.attribute = value` to set the value. This can be useful if\n",
      "# you write code using this pattern and don't want to break it.\n",
      "\n",
      "class Query(object):\n",
      "    url = 'http://foo'\n",
      "    _timeout = 60  # seconds before timeout\n",
      "    \n",
      "    @property\n",
      "    def timeout(self):\n",
      "        return self._timeout / 60.  # ie return in minutes\n",
      "    \n",
      "    @timeout.setter\n",
      "    def timeout(self, mins):\n",
      "        self._timeout = mins * 60  # to seconds\n",
      "        \n",
      "q = Query()\n",
      "print q.timeout\n",
      "q.timeout = 5\n",
      "print q._timeout, q.timeout\n",
      "\n",
      "# Cool, preserves the simple access pattern, but allows for complex\n",
      "# behaviour under the hood with writing special `set_timeout` and\n",
      "# `get_timeout` methods like in Java.\n",
      "        "
     ],
     "language": "python",
     "metadata": {},
     "outputs": [
      {
       "output_type": "stream",
       "stream": "stdout",
       "text": [
        "1.0\n",
        "300 5.0\n"
       ]
      }
     ],
     "prompt_number": 19
    },
    {
     "cell_type": "markdown",
     "metadata": {},
     "source": [
      "Style Note: Incomplete Initialization\n",
      "-------------------------------------"
     ]
    },
    {
     "cell_type": "code",
     "collapsed": false,
     "input": [
      "# When defining classes and methods, think about how you or others\n",
      "# would us that object in practice. In this way, it is best to avoid\n",
      "# \"incompletely initiliazed objects\", where after creating the object,\n",
      "# multiple methods must be executed to get the desired result.\n",
      "# Example:\n",
      "q = Query('co')  # <-- `q` is initialized\n",
      "q.fetch()  # well,\n",
      "q.parse()  # not\n",
      "q.analyze()  # quite\n",
      "a = (q.data, q.results)  # now it is though\n",
      "\n",
      "# This is discouraged because without careful documentation and\n",
      "# internal testing within the class it is:\n",
      "# a) easy to do these methods out of order or omit a step,\n",
      "#    thus breaking things internally when attributes are undefined\n",
      "# b) without careful directives in the docstring it is very difficult\n",
      "#    for the user/you-three-months-from-now to discover what methods\n",
      "#    have to be run and in what order to run them.\n",
      "\n",
      "# In this case, it would be best to either make a function that\n",
      "# initializes the object...\n",
      "def query_factory(mol, QueryEngine=Query):\n",
      "    q = QueryEngine(mol)  # Could be CDMS, JPL, or Leiden!\n",
      "    q.fetch()\n",
      "    q.parse()\n",
      "    q.analyze()\n",
      "    return q\n",
      "# It may seem convoluted to use a function to manipulate the object,\n",
      "# why not have just made a bunch of functions to begin with and pass\n",
      "# arguments between each other? A class exists to *encapsulate* code\n",
      "# ie hide the internals with an interface of methods and attributes\n",
      "# and make the code easier to extend and maintain. Note in this example\n",
      "# we leverage object *polymorphism* or *ducktyping*. As long as we\n",
      "# make a query class that implements the `fetch`, `parse`, and `analyze`\n",
      "# methods and takes an argument `mol`, this function can be used to\n",
      "# generate the objects. As long as classes have the same interface,\n",
      "# they can be used interchangeably. (Note this is what functions like\n",
      "# `np.array` do, take arguments and spit back fully initialized instances\n",
      "# of np.ndarray).\n",
      "\n",
      "# Alternatively, you can just stuff all the methods into the `__init__`\n",
      "# method and be done with it.\n"
     ],
     "language": "python",
     "metadata": {},
     "outputs": [],
     "prompt_number": 10
    },
    {
     "cell_type": "markdown",
     "metadata": {},
     "source": [
      "Big Picture\n",
      "===========\n",
      "So we see that objects are just collections of values (attributes) and functions that operate on those values (methods). How does this help us? OOP enables us to interpret our problem in terms of *interactions between objects* rather than mappings of functions to data or procedures of data manipulations moving from the top to bottom of a file. Below we'll discuss design patterns of OOP. Not all code is best described by OOP patterns, but often complex code can be simplified in terms of interacting objects. Frequently OOP can require a more verbose level of code initially, but this code is often more extensible, and easier to maintain and interpet. Python allows for multiple paradigms, so it is the job of the programmer to decide what best describes the problem."
     ]
    },
    {
     "cell_type": "markdown",
     "metadata": {},
     "source": [
      "Relationships Between Objects\n",
      "=============================\n",
      "Since your time is valuable, I've tried to write an example with real world application for astronomers. If you want to look at quality OOP code written in Python for astronomy, look at the `astropy`, `astroquery`, `hyperion`, and `APLpy` Python modules. Most large Python projects are organized with OOP in mind, such as `matplotlib` or `numpy`, but those codebases are quite dense. This code is loosely modelled after the `lamda` module I wrote for `astroquery`."
     ]
    },
    {
     "cell_type": "markdown",
     "metadata": {},
     "source": [
      "Inheritance\n",
      "===========\n",
      "Inheritance is perhaps the single most powerful concept of OOP. This relationship is sometimes known as **is a** in that a sub-class \"is a\" super-class in a graph of the class hierarchy (\"a lion is a feline is an animal\"). See it in action:"
     ]
    },
    {
     "cell_type": "code",
     "collapsed": false,
     "input": [
      "# Put common behaviour into a super-class that more specific classes *inherit* from\n",
      "class BaseQuery(object):\n",
      "    def get_data(self, **kwargs):\n",
      "        request = requests.get(self.url.format(**kwargs))  # note we didn't have to specify `self.url`!\n",
      "        request.raise_for_status()\n",
      "        self.text = request.text\n",
      "        \n",
      "    def __str__(self):\n",
      "        lines = self.text.split('\\n')[:20]\n",
      "        return '\\n'.join(lines)\n",
      "    \n",
      "\n",
      "# Specialized code is put into sub-classes, this allows for the base-class code to be:\n",
      "# * reusable: write code once, then inherit it multiple times\n",
      "# * modular: chunk code into units of specialized responsibility\n",
      "# * logical: many small, specialized objects versus one long, internally complex object\n",
      "# * extendable: to extend, inherit, rather than adding to the original definition\n",
      "class LamdaQuery(BaseQuery):\n",
      "    url = 'http://home.strw.leidenuniv.nl/~moldata/datafiles/{mol}.dat'\n",
      "    # ^ here we actually make the assignment\n",
      "    \n",
      "    def __init__(self, mol):\n",
      "        self.mol = mol\n",
      "    \n",
      "    def run(self):\n",
      "        self.get_data(mol=self.mol)  # the sub-class can reference all methods and attributes in the super-class\n",
      "\n",
      "\n",
      "q = LamdaQuery('co')\n",
      "q.run()\n",
      "print q"
     ],
     "language": "python",
     "metadata": {},
     "outputs": [
      {
       "output_type": "stream",
       "stream": "stdout",
       "text": [
        "!MOLECULE\n",
        "CO\n",
        "!MOLECULAR WEIGHT\n",
        "28.0\n",
        "!NUMBER OF ENERGY LEVELS\n",
        "41\n",
        "!LEVEL + ENERGIES(cm^-1) + WEIGHT + J\n",
        "    1     0.000000000\t    1.0\t    0\n",
        "    2     3.845033413\t    3.0\t    1\n",
        "    3    11.534919938\t    5.0\t    2\n",
        "    4    23.069512649\t    7.0\t    3\n",
        "    5    38.448164669\t    9.0     4\n",
        "    6    57.670329083\t   11.0     5\n",
        "    7    80.735459105\t   13.0\t    6\n",
        "    8   107.642407981\t   15.0\t    7\n",
        "    9   138.390328288\t   17.0\t    8\n",
        "   10   172.978074417\t   19.0\t    9\n",
        "   11   211.404098498\t   21.0\t   10\n",
        "   12   253.667154063\t   23.0\t   11\n",
        "   13   299.765594677\t   25.0\t   12\n"
       ]
      }
     ],
     "prompt_number": 42
    },
    {
     "cell_type": "markdown",
     "metadata": {},
     "source": [
      "As an astute reader, you may be wondering why we have to write `class Foo(object):` in our class definitions. Well, you are just seeing inheritance at work! Classes were improved in Python 2 from \"old-style\" to \"new-style\" classes, and to effect this change, if you want the new-style class features, you must inherit from the \"top-level\" class that everything else inherits from: `object`."
     ]
    },
    {
     "cell_type": "markdown",
     "metadata": {},
     "source": [
      "Multiple Inheritance and Mixins\n",
      "===============================\n",
      "The more the merrier, right? Not always. Often multiple inheritance can lead to methods and attributes that conflict and cause difficult to debug problems. Java's strong language preference for inheritance has lead to a great deal of awful code being written in the enterprise environment, and thus many people will state that multiple inheritance is a Bad Thing. However, if classes have clearly seperate responsibilities (ex. a Parser or a Printer), and that they are not meant to stand on their own, they become known as the esteemed \"Mixins\" of the Python community (ex. ParseMixin and PrintMixin)."
     ]
    },
    {
     "cell_type": "code",
     "collapsed": false,
     "input": [
      "import pprint\n",
      "\n",
      "\n",
      "class BaseQuery(object):\n",
      "    def get_data(self, **kwargs):\n",
      "        request = requests.get(self.url.format(**kwargs))\n",
      "        request.raise_for_status()\n",
      "        self.text = request.text\n",
      "        \n",
      "    def __str__(self):\n",
      "        return self.text\n",
      "\n",
      "\n",
      "# The Mixin class has no `__init__` method and as it not meant to\n",
      "# be initialized or called on its own (note the similarity to `BaseQuery`\n",
      "# above, which is technically an abstract base class. Mixins should\n",
      "# not inherit from a super-class themselves, only `object`. Keeping\n",
      "# the class hierarchy flat is key to avoiding conflicts.\n",
      "class PrettyPrinterMixin(object):\n",
      "    pp = pprint.PrettyPrinter(indent=3)\n",
      "    \n",
      "    def __repr__(self):\n",
      "        return str(self.pp.pprint(self.text.split('\\n')[:20]))\n",
      "        \n",
      "\n",
      "# If by adding various Mixins, we can add (and reuse!) the code for\n",
      "# a specific functionality.\n",
      "class LamdaQuery(BaseQuery, PrettyPrinterMixin):\n",
      "    url = 'http://home.strw.leidenuniv.nl/~moldata/datafiles/{mol}.dat'\n",
      "    \n",
      "    def __init__(self, mol):\n",
      "        self.mol = mol\n",
      "    \n",
      "    def run(self):\n",
      "        self.get_data(mol=self.mol)\n",
      "\n",
      "\n",
      "q = LamdaQuery('co')\n",
      "q.run()\n",
      "q  # when an object is referenced in the REPL (Read-Eval-Print-Loop) or \n",
      "   # in the notebook, what does python do? It calls the `__repr__` or \n",
      "   # \"representation\" magic method to print it out. This is how\n",
      "   # numpy arrays and matrices get nicely formatted in the REPL."
     ],
     "language": "python",
     "metadata": {},
     "outputs": [
      {
       "output_type": "stream",
       "stream": "stdout",
       "text": [
        "[  u'!MOLECULE',\n",
        "   u'CO',\n",
        "   u'!MOLECULAR WEIGHT',\n",
        "   u'28.0',\n",
        "   u'!NUMBER OF ENERGY LEVELS',\n",
        "   u'41',\n",
        "   u'!LEVEL + ENERGIES(cm^-1) + WEIGHT + J',\n",
        "   u'    1     0.000000000\\t    1.0\\t    0',\n",
        "   u'    2     3.845033413\\t    3.0\\t    1',\n",
        "   u'    3    11.534919938\\t    5.0\\t    2',\n",
        "   u'    4    23.069512649\\t    7.0\\t    3',\n",
        "   u'    5    38.448164669\\t    9.0     4',\n",
        "   u'    6    57.670329083\\t   11.0     5',\n",
        "   u'    7    80.735459105\\t   13.0\\t    6',\n",
        "   u'    8   107.642407981\\t   15.0\\t    7',\n",
        "   u'    9   138.390328288\\t   17.0\\t    8',\n",
        "   u'   10   172.978074417\\t   19.0\\t    9',\n",
        "   u'   11   211.404098498\\t   21.0\\t   10',\n",
        "   u'   12   253.667154063\\t   23.0\\t   11',\n",
        "   u'   13   299.765594677\\t   25.0\\t   12']\n"
       ]
      },
      {
       "metadata": {},
       "output_type": "pyout",
       "prompt_number": 25,
       "text": [
        "None"
       ]
      }
     ],
     "prompt_number": 25
    },
    {
     "cell_type": "markdown",
     "metadata": {},
     "source": [
      "Composition\n",
      "===========\n",
      "Instead of inheriting the attributes and methods from a super-class, the methods and attributes can be encapsulated in different objects, that are *composed* by binding them to another object. In OOP parlance, this is known as a \"has a\" relationship (\"a car has an engine and a transmission\"). People that dislike inheritance often prefer composition, because the encapsulation of attributes and methods by the object means that you don't run into conflicts if classes have the same attributes and methods (and you didn't intend to override them or envision internal conflicts). However inheritance and composition can both be simpler solutions to different problems.\n",
      "\n",
      "In short, don't let jaded Java programmers tell you how to OOP!"
     ]
    },
    {
     "cell_type": "code",
     "collapsed": false,
     "input": [
      "import re\n",
      "from StringIO import StringIO\n",
      "\n",
      "\n",
      "# The Parsers and Containers define classes that are used\n",
      "# by the Query classes through composition.\n",
      "\n",
      "###########\n",
      "# Parsers #\n",
      "###########\n",
      "\n",
      "class EnergyParser(object):\n",
      "    col_key = 'Energy'\n",
      "    start_row = 7\n",
      "    end_row = 47\n",
      "    \n",
      "    def __init__(self, unparsed):\n",
      "        self.unparsed = unparsed\n",
      "        self.parsed = self.parse()\n",
      "    \n",
      "    def parse(self):\n",
      "        parsed = self.unparsed.split(\"\\n\")\n",
      "        parsed = parsed[self.start_row:self.end_row]\n",
      "        parsed = [l.strip() for l in parsed]\n",
      "        parsed = [re.sub('\\s+', ',', l) for l in parsed]\n",
      "        parsed = \"\\n\".join(parsed)\n",
      "        return parsed\n",
      "\n",
      "\n",
      "class CollisionRateParser(object):\n",
      "    pass\n",
      "        \n",
      "\n",
      "##############\n",
      "# Containers #\n",
      "##############\n",
      "\n",
      "class PandasContainer(object):\n",
      "    def __init__(self, text, cols):\n",
      "        self.text = text\n",
      "        self.cols = cols\n",
      "        self.data = pd.read_csv(StringIO(text), names=cols)\n",
      "\n",
      "class AstropyTablesContainer(object):\n",
      "    pass\n",
      "\n",
      "class FitsTableContainer(object):\n",
      "    pass\n",
      "\n",
      "\n",
      "#########\n",
      "# Query #\n",
      "#########\n",
      "\n",
      "# *Single* inheritance hierarchy:\n",
      "#  BaseQuery +-> CatalogQuery +-> LamdaQuery\n",
      "#            |                +-> CdmsQuery\n",
      "#            +-> ImageQuery\n",
      "# Every class has only one super-class.\n",
      "class BaseQuery(object):\n",
      "    def get_data(self, **kwargs):\n",
      "        request = requests.get(self.url.format(**kwargs))\n",
      "        request.raise_for_status()\n",
      "        self.text = request.text\n",
      "        \n",
      "    def __str__(self):\n",
      "        return self.text\n",
      "\n",
      "\n",
      "class CatalogQuery(BaseQuery):\n",
      "    def parse(self):\n",
      "        self.parser = self.Parser(self.text)\n",
      "        self.parsed_text = self.parser.parsed\n",
      "        \n",
      "    def to_data(self):\n",
      "        cols = self.cols[self.parser.col_key]\n",
      "        text = self.parsed_text\n",
      "        self.container = self.Container(text, cols)\n",
      "        self.data = self.container.data\n",
      "    \n",
      "    def run(self):\n",
      "        self.get_data(mol=self.mol)\n",
      "        self.parse()\n",
      "        self.to_data()\n",
      "\n",
      "\n",
      "class ImageQuery(BaseQuery):\n",
      "    pass\n",
      "\n",
      "\n",
      "class LamdaQuery(CatalogQuery):\n",
      "    url = 'http://home.strw.leidenuniv.nl/~moldata/datafiles/{mol}.dat'\n",
      "    cols = {'Energy': [\"level\", \"energies\", \"weight\", \"J\"]}\n",
      "    \n",
      "    def __init__(self, mol, Parser=EnergyParser, Container=PandasContainer):\n",
      "        self.mol = mol\n",
      "        self.Parser = Parser\n",
      "        self.Container = Container\n",
      "\n",
      "        \n",
      "# Note, it can be OK to define attributes and methods in the super-\n",
      "# classes, because you can climb up the class-hierarchy to figure out\n",
      "# where stuff is defined (an intelligent editor makes this easy).\n",
      "# I'm playing a bit fast and loose defining attributes in the\n",
      "# *sub-classes* that are necessary for the super-classes to function\n",
      "# correctly. Ie it is not obvious at a cursory glance that a\n",
      "# sub-class of BaseQuery *must* implement a `url` attribute, or\n",
      "# else the `get_data` method will fail, or that a sub-class of\n",
      "# CatalogQuery *must* implement a `cols` attribute or else\n",
      "# `to_data` will fail.\n",
      "#\n",
      "# A more robust style would be to make these abstract base classes\n",
      "# so that other programmers (or yourself) could know what methods\n",
      "# and attributes are necessary for a minimally operational sub-class\n",
      "# of BaseQuery or Catalog query to work are, and to switch out some\n",
      "# `self.foo = foo` declarations with returned values and arguments\n",
      "# (so that they could be documented in the docstrings of the methods).\n",
      "# These are also called \"meta-classes\".\n",
      "\n",
      "\n",
      "class CdmsQuery(CatalogQuery):\n",
      "    pass\n",
      "\n",
      "\n",
      "# Let's do it!\n",
      "co = LamdaQuery('co')\n",
      "co.run()\n",
      "df = co.data\n",
      "\n",
      "print df.head()\n",
      "df['J2'] = df.J**2\n",
      "df.plot(\"J\", \"energies\", kind='scatter')\n",
      "df.plot(\"J2\", \"energies\", kind='scatter')"
     ],
     "language": "python",
     "metadata": {},
     "outputs": [
      {
       "output_type": "stream",
       "stream": "stdout",
       "text": [
        "   level   energies  weight  J\n",
        "0      1   0.000000       1  0\n",
        "1      2   3.845033       3  1\n",
        "2      3  11.534920       5  2\n",
        "3      4  23.069513       7  3\n",
        "4      5  38.448165       9  4\n"
       ]
      },
      {
       "metadata": {},
       "output_type": "pyout",
       "prompt_number": 33,
       "text": [
        "<matplotlib.axes.AxesSubplot at 0x6916450>"
       ]
      },
      {
       "metadata": {},
       "output_type": "display_data",
       "png": "[encoded data removed]",
       "text": [
        "<matplotlib.figure.Figure at 0x66f5590>"
       ]
      },
      {
       "metadata": {},
       "output_type": "display_data",
       "png": "[encoded data removed]",
       "text": [
        "<matplotlib.figure.Figure at 0x5ce8d10>"
       ]
      }
     ],
     "prompt_number": 33
    },
    {
     "cell_type": "markdown",
     "metadata": {},
     "source": [
      "Conclusions / Brian's Opinions\n",
      "------------------------------\n",
      "This last example uses nearly all the concepts we've discussed up to this point: classes, objects, encapsulation, methods, attributes, polymorphism, inheritance, and composition. Now, you may be thinking:\n",
      "\n",
      "> But Brian, that code looks complex and verbose, what's with all these `self`s and `__init__`s running around. If I just wanted to scrape some data off a page and plot it, I could have banged out ~40 flat lines of code in a script and been done with it.\n",
      "\n",
      "To this sentiment I'd request taking another look at the code above. Astronomers in academia have historically been concerned with numerical computing where the imperative style of C and Fortran is strongest. Things are going to seem complex while you're being introduced to a new style that you're not familiar with. However, I can assure you, if you banged out a flat ~40 line script to do the above, it would be brittle and it would be more difficult to figure out how it works in one week. Under duress of an impending deadline where new requirements are necessary, you may be forced to comment out blocks of code and copy-paste new sections, create multiple modified copies of the same script, or even have to write it from scratch. The scope of programming in astronomy now includes a diverse range of problems beyond implementing numerical algorithms: manipulating databases, distributed computing, network interaction, visualization, and large collaborative projects such as simulations or pipelines.\n",
      "\n",
      "The code above isn't perfect, but the nature of OOP means that chunks of code have single responsibilities, their purposes are clear, and those chunks can be simply extended when the need for new functionality arises. In essence, you're paying a minor up-front \"infrastructure\" cost for long-term ease of use. It's trivial to outline a mental roadmap above to download images instead of text-files, query CDMS instead of LAMDA, or parse the collision rate section of LAMDA rather than the energy levels. If things get too complicated, make more classes and think about the most intuitive way they should interact. It can then be accessed as a module in a general fashion by short scripts, interactively in the REPL, and included in other modules.\n",
      "\n",
      "Lastly, I think that sharing code and collaborating on software projects is an essential step to the future of academic astronomy. This collaboration will help keep isolated astronomers from continuously reinventing wheels (and at variable quality...). Programming in an OO style is one way to create well-built software that is both more maintainable for yourself and more readily extendable by others.\n",
      "\n",
      "I hope that this guide has been useful. Now get out there and OOP!"
     ]
    },
    {
     "cell_type": "code",
     "collapsed": false,
     "input": [],
     "language": "python",
     "metadata": {},
     "outputs": []
    }
   ],
   "metadata": {}
  }
 ]
}